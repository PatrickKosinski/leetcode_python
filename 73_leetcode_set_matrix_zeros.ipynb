{
  "nbformat": 4,
  "nbformat_minor": 0,
  "metadata": {
    "colab": {
      "provenance": [],
      "authorship_tag": "ABX9TyP0peULBNnoZTYXijd6Es/T"
    },
    "kernelspec": {
      "name": "python3",
      "display_name": "Python 3"
    },
    "language_info": {
      "name": "python"
    }
  },
  "cells": [
    {
      "cell_type": "markdown",
      "source": [
        "# **Solution to Leetcode Problem No 73 Set Matrix Zeroes (as of 21.07.2024)**"
      ],
      "metadata": {
        "id": "KCBftTnG3k6v"
      }
    },
    {
      "cell_type": "markdown",
      "source": [
        "In this problem, given a matrix as a list of lists, we try to set for each row i and each column j where the a_{i,j} = 0 every element of row i and every element of column j to 0.\n",
        "\n",
        "Find an example below (taken from the original leetcode problem):\n",
        "\n",
        "![mat1.jpg](data:image/jpeg;base64,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)"
      ],
      "metadata": {
        "id": "DHGuE02u3k85"
      }
    },
    {
      "cell_type": "markdown",
      "source": [
        "A full description of the problem can be found in here: [Link to problem](https://leetcode.com/problems/set-matrix-zeroes/description/).\n",
        "The algorithm will be described in the commands of the respective lines."
      ],
      "metadata": {
        "id": "kEdHJfHB3k_g"
      }
    },
    {
      "cell_type": "code",
      "source": [
        "def set_zeros(matrix):\n",
        "  # set up the list to store the information where zeros in the matrix occur\n",
        "\n",
        "  result = []\n",
        "\n",
        "  # The idea here is to store the position of zeros for every row and every column\n",
        "  # The aim is to store the information in the form of a list having the form:\n",
        "  # [(row_number_1, [column_index_1, column_index_2, ....]), (row_number_2, [column_index_1, column_index_2, ....]), (...][...])]\n",
        "\n",
        "  row_counter = 0\n",
        "\n",
        "  # In a first step, we set the whole column of the matrix to zero, if\n",
        "  # in the respective column, a zero occurs\n",
        "  # Thus, we iterate through every column (i.e. every list element of matrix)\n",
        "  for i in matrix:\n",
        "  # Now, we check if a zero occurs in the column\n",
        "    if 0 in i:\n",
        "  # If a zero occurs in the respective column, we need to check in which column the zero\n",
        "  # is stored. This is stored in the list indices and done by enumerate.\n",
        "      indices = [index for index, element in enumerate(i) if element == 0]\n",
        "  # The information of the row index is stored in row_counter. Now, we store the\n",
        "  # information:\n",
        "      result.append((row_counter, indices))\n",
        "  # For the next iteration, we have to increase the row_counter by one.\n",
        "    row_counter += 1\n",
        "  # Now we collected the information, let's set the respective rows to zero:\n",
        "  # We iterate through our result list because the length of the list\n",
        "  # equals the number of rows where a zero has been found\n",
        "  # i[0] is the row number , [:] commands that we are doing this operation to the\n",
        "  # whole list. len(matrix[0]) as a static value is ok since len(matrix[0])\n",
        "  # equals the number of columns and this number remains the same for a matrix\n",
        "  for i in result:\n",
        "    matrix[i[0]][:] = [0] * len(matrix[0])\n",
        "\n",
        "  # Now, we have to deal with the columns.\n",
        "  # Again, we iterate through every row. in case we found a zero in column j,\n",
        "  # we go through every row and replace each value of column j with zero.\n",
        "  for i in range(len(matrix)):\n",
        "  # In order to get the list which stored the column indices, where zeroes are\n",
        "  # stored, we have to iterate through our result-list\n",
        "    for j in result:\n",
        "  # and now we only have to pick the right element, which is j[1] - which itself\n",
        "  # is a list again because zeros can occur in multiple columns.\n",
        "      for k in j[1]:\n",
        "        matrix[i][k] = 0\n",
        "\n",
        "  print(matrix)\n",
        "\n",
        "  return None"
      ],
      "metadata": {
        "id": "plGa7CRWD6rH"
      },
      "execution_count": 55,
      "outputs": []
    },
    {
      "cell_type": "code",
      "source": [
        "matrix = [[1,1,1],[1,0,1],[1,1,1]]\n",
        "set_zeros(matrix)"
      ],
      "metadata": {
        "colab": {
          "base_uri": "https://localhost:8080/"
        },
        "id": "raiNGNUj3kiI",
        "outputId": "09acc304-1b06-4b47-c81c-e26dd19f1381"
      },
      "execution_count": 56,
      "outputs": [
        {
          "output_type": "stream",
          "name": "stdout",
          "text": [
            "[[1, 0, 1], [0, 0, 0], [1, 0, 1]]\n"
          ]
        }
      ]
    },
    {
      "cell_type": "code",
      "source": [
        "matrix = [[0,1,2,0],[3,4,5,2],[1,3,1,5]]\n",
        "set_zeros(matrix)"
      ],
      "metadata": {
        "colab": {
          "base_uri": "https://localhost:8080/"
        },
        "id": "Zeyi9qquO3Rp",
        "outputId": "4ad40999-9b3a-4bdd-aaa5-02136f98db08"
      },
      "execution_count": 57,
      "outputs": [
        {
          "output_type": "stream",
          "name": "stdout",
          "text": [
            "[[0, 0, 0, 0], [0, 4, 5, 0], [0, 3, 1, 0]]\n"
          ]
        }
      ]
    },
    {
      "cell_type": "code",
      "source": [
        "matrix = [[0,1,2,0],[3,0,5,2],[1,3,1,5]]\n",
        "set_zeros(matrix)"
      ],
      "metadata": {
        "colab": {
          "base_uri": "https://localhost:8080/"
        },
        "id": "_9ac5CzaO3T9",
        "outputId": "9e414c7a-877b-4713-b43b-fd7fc58af205"
      },
      "execution_count": 58,
      "outputs": [
        {
          "output_type": "stream",
          "name": "stdout",
          "text": [
            "[[0, 0, 0, 0], [0, 0, 0, 0], [0, 0, 1, 0]]\n"
          ]
        }
      ]
    }
  ]
}