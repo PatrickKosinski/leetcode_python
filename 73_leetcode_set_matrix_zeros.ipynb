{
  "nbformat": 4,
  "nbformat_minor": 0,
  "metadata": {
    "colab": {
      "provenance": [],
      "authorship_tag": "ABX9TyN3OAlvbKmsQZ7mScxX9lsT"
    },
    "kernelspec": {
      "name": "python3",
      "display_name": "Python 3"
    },
    "language_info": {
      "name": "python"
    }
  },
  "cells": [
    {
      "cell_type": "markdown",
      "source": [
        "# **Solution to Leetcode Problem No 73 Set Matrix Zeroes (as of 21.07.2024)**"
      ],
      "metadata": {
        "id": "KCBftTnG3k6v"
      }
    },
    {
      "cell_type": "markdown",
      "source": [
        "In this problem, given a matrix as a list of lists, we try to set for each row i and each column j where the a_{i,j} = 0 every element of row i and every element of column j to 0."
      ],
      "metadata": {
        "id": "DHGuE02u3k85"
      }
    },
    {
      "cell_type": "markdown",
      "source": [
        "A full description of the problem can be found in here: [Link to problem](https://leetcode.com/problems/set-matrix-zeroes/description/).\n",
        "The algorithm will be described in the commands of the respective lines."
      ],
      "metadata": {
        "id": "kEdHJfHB3k_g"
      }
    },
    {
      "cell_type": "code",
      "source": [
        "def set_zeros(matrix):\n",
        "  # set up the list to store the information where zeros in the matrix occur\n",
        "\n",
        "  result = []\n",
        "\n",
        "  # The idea here is to store the position of zeros for every row and every column\n",
        "  # The aim is to store the information in the form of a list having the form:\n",
        "  # [(row_number_1, [column_index_1, column_index_2, ....]), (row_number_2, [column_index_1, column_index_2, ....]), (...][...])]\n",
        "\n",
        "  row_counter = 0\n",
        "\n",
        "  # In a first step, we set the whole column of the matrix to zero, if\n",
        "  # in the respective column, a zero occurs\n",
        "  # Thus, we iterate through every column (i.e. every list element of matrix)\n",
        "  for i in matrix:\n",
        "  # Now, we check if a zero occurs in the column\n",
        "    if 0 in i:\n",
        "  # If a zero occurs in the respective column, we need to check in which column the zero\n",
        "  # is stored. This is stored in the list indices and done by enumerate.\n",
        "      indices = [index for index, element in enumerate(i) if element == 0]\n",
        "  # The information of the row index is stored in row_counter. Now, we store the\n",
        "  # information:\n",
        "      result.append((row_counter, indices))\n",
        "  # For the next iteration, we have to increase the row_counter by one.\n",
        "    row_counter += 1\n",
        "  # Now we collected the information, let's set the respective rows to zero:\n",
        "  # We iterate through our result list because the length of the list\n",
        "  # equals the number of rows where a zero has been found\n",
        "  # i[0] is the row number , [:] commands that we are doing this operation to the\n",
        "  # whole list. len(matrix[0]) as a static value is ok since len(matrix[0])\n",
        "  # equals the number of columns and this number remains the same for a matrix\n",
        "  for i in result:\n",
        "    matrix[i[0]][:] = [0] * len(matrix[0])\n",
        "\n",
        "  # Now, we have to deal with the columns.\n",
        "  # Again, we iterate through every row. in case we found a zero in column j,\n",
        "  # we go through every row and replace each value of column j with zero.\n",
        "  for i in range(len(matrix)):\n",
        "  # In order to get the list which stored the column indices, where zeroes are\n",
        "  # stored, we have to iterate through our result-list\n",
        "    for j in result:\n",
        "  # and now we only have to pick the right element, which is j[1] - which itself\n",
        "  # is a list again because zeros can occur in multiple columns.\n",
        "      for k in j[1]:\n",
        "        matrix[i][k] = 0\n",
        "\n",
        "  print(matrix)\n",
        "\n",
        "  return None"
      ],
      "metadata": {
        "id": "plGa7CRWD6rH"
      },
      "execution_count": 55,
      "outputs": []
    },
    {
      "cell_type": "code",
      "source": [
        "matrix = [[1,1,1],[1,0,1],[1,1,1]]\n",
        "set_zeros(matrix)"
      ],
      "metadata": {
        "colab": {
          "base_uri": "https://localhost:8080/"
        },
        "id": "raiNGNUj3kiI",
        "outputId": "09acc304-1b06-4b47-c81c-e26dd19f1381"
      },
      "execution_count": 56,
      "outputs": [
        {
          "output_type": "stream",
          "name": "stdout",
          "text": [
            "[[1, 0, 1], [0, 0, 0], [1, 0, 1]]\n"
          ]
        }
      ]
    },
    {
      "cell_type": "code",
      "source": [
        "matrix = [[0,1,2,0],[3,4,5,2],[1,3,1,5]]\n",
        "set_zeros(matrix)"
      ],
      "metadata": {
        "colab": {
          "base_uri": "https://localhost:8080/"
        },
        "id": "Zeyi9qquO3Rp",
        "outputId": "4ad40999-9b3a-4bdd-aaa5-02136f98db08"
      },
      "execution_count": 57,
      "outputs": [
        {
          "output_type": "stream",
          "name": "stdout",
          "text": [
            "[[0, 0, 0, 0], [0, 4, 5, 0], [0, 3, 1, 0]]\n"
          ]
        }
      ]
    },
    {
      "cell_type": "code",
      "source": [
        "matrix = [[0,1,2,0],[3,0,5,2],[1,3,1,5]]\n",
        "set_zeros(matrix)"
      ],
      "metadata": {
        "colab": {
          "base_uri": "https://localhost:8080/"
        },
        "id": "_9ac5CzaO3T9",
        "outputId": "9e414c7a-877b-4713-b43b-fd7fc58af205"
      },
      "execution_count": 58,
      "outputs": [
        {
          "output_type": "stream",
          "name": "stdout",
          "text": [
            "[[0, 0, 0, 0], [0, 0, 0, 0], [0, 0, 1, 0]]\n"
          ]
        }
      ]
    }
  ]
}