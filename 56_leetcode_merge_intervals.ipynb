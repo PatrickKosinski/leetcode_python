{
  "nbformat": 4,
  "nbformat_minor": 0,
  "metadata": {
    "colab": {
      "provenance": [],
      "authorship_tag": "ABX9TyM3IpCfNIxSZjXlrZ2vJLos"
    },
    "kernelspec": {
      "name": "python3",
      "display_name": "Python 3"
    },
    "language_info": {
      "name": "python"
    }
  },
  "cells": [
    {
      "cell_type": "markdown",
      "source": [
        "# **Solution to Leetcode Problem No.56 Merge Intervals (as of 20.07.2024)**"
      ],
      "metadata": {
        "id": "ccsxUVVHmg7-"
      }
    },
    {
      "cell_type": "markdown",
      "source": [
        "# Difficulty: medium"
      ],
      "metadata": {
        "id": "3Qlm3xRDmg-v"
      }
    },
    {
      "cell_type": "markdown",
      "source": [
        "The aim is to merge overlapping intervals given in a list of interval-lists - e.g. we want to transform [[1,4], [4,5]] to [1,5], as both intervals overlap in 4. Please find a full description here: [Link to full description](https://leetcode.com/problems/merge-intervals/description/).\n",
        "\n",
        "Given the list of intervals is ordered by its first integer (lower bound), the following two cases are possible:\n",
        "\n",
        "1.) A pair of intervals does not overlap \\\n",
        "2.) A pair of intervals does overlap\n",
        "\n",
        "In case we observe 1.), all we need to do is to append the interval into the list where we store the final result. In case a pair of intervals does overlap, we have to choose the maximum of result[-1][1] and i[1]. Here, result[-1][1] is the higher bound of the last interval in the result-list, whereas i[1] is the higher bound of the interval under investigation."
      ],
      "metadata": {
        "id": "SBL1yJ33mhBQ"
      }
    },
    {
      "cell_type": "code",
      "source": [
        "def merge(intervals):\n",
        "  # let's sort the list of intervals by the lower bound first\n",
        "  intervals = sorted(intervals)\n",
        "\n",
        "  # now we need to initialize the list where we will store our results\n",
        "  result = []\n",
        "  result.append(intervals[0])\n",
        "\n",
        "  # The basic idea is described in the introduction:\n",
        "  # either we have a pair of intervals that do overlap or not\n",
        "  # the if condition is true when no overlapping happens\n",
        "  # if the if condition is wrong, then assign to the higher bound\n",
        "  # of the last interval in result (result[-1][1]) the maximum\n",
        "  # of its value or the higher bound of the current interval of\n",
        "  # investigation\n",
        "  for i in intervals:\n",
        "    if result[-1][1] < i[0]:\n",
        "      result.append(i)\n",
        "    else:\n",
        "      result[-1][1] = max(result[-1][1], i[1])\n",
        "\n",
        "\n",
        "  print(result)\n",
        "  return None"
      ],
      "metadata": {
        "id": "Q2BIDon8qMXR"
      },
      "execution_count": null,
      "outputs": []
    },
    {
      "cell_type": "code",
      "source": [
        "intervals = [[1,3],[2,6],[8,10],[15,18]]\n",
        "merge(intervals)"
      ],
      "metadata": {
        "colab": {
          "base_uri": "https://localhost:8080/"
        },
        "id": "ofWFO3Yoizi5",
        "outputId": "c6ba61bc-97b4-4ee9-9f83-db3b8b6c1819"
      },
      "execution_count": null,
      "outputs": [
        {
          "output_type": "stream",
          "name": "stdout",
          "text": [
            "[[1, 6], [8, 10], [15, 18]]\n"
          ]
        }
      ]
    },
    {
      "cell_type": "code",
      "source": [
        "intervals = [[1,4],[4,5]]\n",
        "merge(intervals)"
      ],
      "metadata": {
        "colab": {
          "base_uri": "https://localhost:8080/"
        },
        "id": "kPq6fO5qsCvX",
        "outputId": "ea374948-b926-4b3e-de5c-f47d429bdfe7"
      },
      "execution_count": null,
      "outputs": [
        {
          "output_type": "stream",
          "name": "stdout",
          "text": [
            "[[1, 5]]\n"
          ]
        }
      ]
    },
    {
      "cell_type": "code",
      "source": [
        "intervals = [[0,1], [2,3]]\n",
        "merge(intervals)"
      ],
      "metadata": {
        "colab": {
          "base_uri": "https://localhost:8080/"
        },
        "id": "g2aFHEDxsF7-",
        "outputId": "03862860-1648-4fd9-89f5-1a42a3ef2cf0"
      },
      "execution_count": null,
      "outputs": [
        {
          "output_type": "stream",
          "name": "stdout",
          "text": [
            "[[0, 1], [2, 3]]\n"
          ]
        }
      ]
    }
  ]
}