{
  "nbformat": 4,
  "nbformat_minor": 0,
  "metadata": {
    "colab": {
      "provenance": [],
      "authorship_tag": "ABX9TyM+R2z5+TXdEiDfxG7VpWem"
    },
    "kernelspec": {
      "name": "python3",
      "display_name": "Python 3"
    },
    "language_info": {
      "name": "python"
    }
  },
  "cells": [
    {
      "cell_type": "markdown",
      "source": [
        "# **Solution to Leetcode Problem No 78 Subsets (as of 04.08.2024)**"
      ],
      "metadata": {
        "id": "rGIxv4pL-O1o"
      }
    },
    {
      "cell_type": "markdown",
      "source": [
        "**Difficulty: medium**"
      ],
      "metadata": {
        "id": "91ehJOJ2-Qap"
      }
    },
    {
      "cell_type": "markdown",
      "source": [
        "The aim of this challenge is to calculate all subsets of a given set of integers. The set of integers is given as a list. For example, given the list [1,2], the output of our solution should be [[], [1], [2], [1,2]]. In mathematical terms, we want to calculate the Power Set of a given set. [Click here for more details on this challenge.](https://leetcode.com/problems/subsets/)"
      ],
      "metadata": {
        "id": "m0ffz43U-QdH"
      }
    },
    {
      "cell_type": "markdown",
      "source": [
        "The idea behind my approach is to calculate all possible sets by using backtracking. We initialize the algorithm with empty lists. Our index is set to 0. In backtracking, we calculate for a given integer all possible sets until no further possibilities are left. Then we move on to the next integer and calculate out of the left possibilities all possible sets.\n",
        "\n",
        "Consider, for example, the list nums = [1,2]. We call calculate_subsets and enter the loop. In this iteration, we calculate [1] as the first subset, we add 1 to the index and calculate the subset again. We end up with [1,2]. As in the following call, index equals to 2, we won't enter the loop and delete an element from temp using pop. But, due to the recursive call of calculate_subsets of the first iteration, we are still in the \"first call of calculate_subsets\", which leads to a second call of team.pop(). As we enter the second iteration of the loop of the first call, we add nums[1] = 2 to our temp list, and thus, we add [2] to our result list."
      ],
      "metadata": {
        "id": "h6-a81qj-Qf3"
      }
    },
    {
      "cell_type": "code",
      "source": [
        "class Solution:\n",
        "    def subsets(self, nums):\n",
        "        result = []\n",
        "        temp = []\n",
        "        index = 0\n",
        "\n",
        "        def calculate_subsets(self, result, temp, index):\n",
        "            for i in range(index, len(nums)):\n",
        "                temp.append(nums[i])\n",
        "                result.append(temp[:])\n",
        "                calculate_subsets(nums, result, temp, i + 1)\n",
        "                temp.pop()\n",
        "            return result\n",
        "\n",
        "        result = calculate_subsets(nums, result, temp, index)\n",
        "        result.append([])\n",
        "        return result"
      ],
      "metadata": {
        "id": "xZfL5A71-M51"
      },
      "execution_count": 27,
      "outputs": []
    },
    {
      "cell_type": "code",
      "source": [
        "nums = [1,2]\n",
        "solution_nums = Solution()\n",
        "print(solution_nums.subsets(nums))"
      ],
      "metadata": {
        "colab": {
          "base_uri": "https://localhost:8080/"
        },
        "id": "t3sRfuyb-M8L",
        "outputId": "4503d3ef-651f-47fb-c444-155ef5883006"
      },
      "execution_count": 28,
      "outputs": [
        {
          "output_type": "stream",
          "name": "stdout",
          "text": [
            "[[1], [1, 2], [2], []]\n"
          ]
        }
      ]
    },
    {
      "cell_type": "code",
      "source": [
        "nums = [1,2,3]\n",
        "solution_nums = Solution()\n",
        "print(solution_nums.subsets(nums))"
      ],
      "metadata": {
        "colab": {
          "base_uri": "https://localhost:8080/"
        },
        "id": "3dFJO15E_UGX",
        "outputId": "57cb2296-bc05-43aa-afd6-02fb10c74264"
      },
      "execution_count": 29,
      "outputs": [
        {
          "output_type": "stream",
          "name": "stdout",
          "text": [
            "[[1], [1, 2], [1, 2, 3], [1, 3], [2], [2, 3], [3], []]\n"
          ]
        }
      ]
    },
    {
      "cell_type": "code",
      "source": [
        "nums = []\n",
        "solution_nums = Solution()\n",
        "print(solution_nums.subsets(nums))"
      ],
      "metadata": {
        "id": "nlEtWksws3en",
        "colab": {
          "base_uri": "https://localhost:8080/"
        },
        "outputId": "057641af-d7c0-4831-fae3-bfa6d94f1b29"
      },
      "execution_count": 30,
      "outputs": [
        {
          "output_type": "stream",
          "name": "stdout",
          "text": [
            "[[]]\n"
          ]
        }
      ]
    }
  ]
}