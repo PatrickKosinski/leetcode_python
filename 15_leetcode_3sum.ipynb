{
  "nbformat": 4,
  "nbformat_minor": 0,
  "metadata": {
    "colab": {
      "provenance": [],
      "authorship_tag": "ABX9TyMIg+wt15AHr0rtjbOrEYMB"
    },
    "kernelspec": {
      "name": "python3",
      "display_name": "Python 3"
    },
    "language_info": {
      "name": "python"
    }
  },
  "cells": [
    {
      "cell_type": "markdown",
      "source": [
        "# **Solution to Leetcode Problem No 15 3Sum (as of 19.07.2024)**"
      ],
      "metadata": {
        "id": "PfILQV3qfviC"
      }
    },
    {
      "cell_type": "markdown",
      "source": [
        "## Difficulty: medium"
      ],
      "metadata": {
        "id": "DmIibdIHgBTw"
      }
    },
    {
      "cell_type": "markdown",
      "source": [
        "The aim is to find all unique triplets in the array which gives the sum of zero. Please find a full description here: [Link to full description](https://leetcode.com/problems/3sum/)"
      ],
      "metadata": {
        "id": "IYgB_LfOgMQw"
      }
    },
    {
      "cell_type": "markdown",
      "source": [
        "The idea is to think about the possibilities on how to form triplets which sum up to zero.\n",
        "\n",
        "Basically, three cases are possible:\n",
        "\n",
        "1) The \"obvious\" solution: [0,0,0]\n",
        "\n",
        "2) One the triple contains on zero. In this case, the other two numbers have to sum up to zero: [0,-a,a] for each a ∈ ℝ.\n",
        "\n",
        "3) The sum of two numbers is equal to minus the third one, i.e.: [a,b,-(a+b)]\n",
        "\n",
        "These three cases set the groundwork for our solution.\n"
      ],
      "metadata": {
        "id": "12tD3mb0geUH"
      }
    },
    {
      "cell_type": "code",
      "source": [
        "def threeSum(nums):\n",
        "  # in order to check for numbers summing up to zero, it is convenient to\n",
        "  # distinguish between positives, negatives and zeros.\n",
        "  # Let's collect these numbers in seperate lists.\n",
        "  positives = []\n",
        "  negatives = []\n",
        "  zeros = []\n",
        "  # After multiple try outs, it turned out to store the result in a set because\n",
        "  # Python's set drops duplicates. E.g. consider the case nums [1,1,0,0,-1,-1].\n",
        "  # Operating on sets, this would lead to result = [[1,0,-1], [1,0,-1]]. But\n",
        "  # we want to have unique results.\n",
        "\n",
        "  result = set()\n",
        "\n",
        "  for i in nums:\n",
        "    if i == 0:\n",
        "      zeros.append(i)\n",
        "    elif i > 0:\n",
        "      positives.append(i)\n",
        "    else:\n",
        "      negatives.append(i)\n",
        "  # Case 1), the \"obvious\" one: If we have at least three zeros in nums,\n",
        "  # then we get a list of zeros with length >=3.\n",
        "    if len(zeros)>=3:\n",
        "      result.add((0,0,0))\n",
        "\n",
        "  # Case 2):\n",
        "  # After some try outs, it turns out that sets are convenient because\n",
        "  # we want to get unique results.\n",
        "  set_positives = set(positives)\n",
        "  set_negatives = set(negatives)\n",
        "  set_zeros = set(zeros)\n",
        "  # Here, we check the definition of case 2).\n",
        "  for i in set_positives:\n",
        "    if -i in set_negatives and 0 in set_zeros:\n",
        "      result.add((i,-i,0))\n",
        "\n",
        "\n",
        "  # Case 3):\n",
        "  # Here, we need to check whether the sum of two numbers is equal to minus\n",
        "  # the third one. There are two possibilities to achieve this:\n",
        "  # 3.1) For two positive numbers a>0, b>0 we check whether -(a+b) is\n",
        "  # an element of negatives.\n",
        "\n",
        "  for i in range(len(positives)):\n",
        "    for j in range(i+1,len(positives)):\n",
        "      if -(positives[i]+positives[j]) in set_negatives:\n",
        "        result.add(tuple(sorted(tuple((positives[i],positives[j],-(positives[i]+positives[j]))))))\n",
        "\n",
        "  # 3.2 For two negative numbers a<0, b<0, we check whether (a+b) is an\n",
        "  # element of positives\n",
        "\n",
        "  for i in range(len(negatives)):\n",
        "    for j in range(i+1,len(negatives)):\n",
        "      if -(negatives[i]+negatives[j]) in set_positives:\n",
        "        result.add(tuple(sorted(tuple((negatives[i],negatives[j],-(negatives[i]+negatives[j]))))))\n",
        "\n",
        "  # sorted() sorts the elements of the tuples, and tuple() creates tuples\n",
        "  # which is necessary to sort them.\n",
        "  # another tuple in front of sorted is necessary to solve a type error: sorted\n",
        "  # tuple becomes a list which we otherwise would try to add to a set.\n",
        "\n",
        "  print(result)\n",
        "\n",
        "  return None"
      ],
      "metadata": {
        "id": "ZhXCuMykektY"
      },
      "execution_count": null,
      "outputs": []
    },
    {
      "cell_type": "code",
      "source": [
        "nums = [-1,0,1,2,-1,-4]\n",
        "threeSum(nums)"
      ],
      "metadata": {
        "colab": {
          "base_uri": "https://localhost:8080/"
        },
        "id": "WByKg4UCj4gW",
        "outputId": "5e38d930-ab43-409f-c28d-ba3d047eab41"
      },
      "execution_count": null,
      "outputs": [
        {
          "output_type": "stream",
          "name": "stdout",
          "text": [
            "{(1, -1, 0), (-1, -1, 2)}\n"
          ]
        }
      ]
    },
    {
      "cell_type": "code",
      "source": [
        "nums = [0,1,1]\n",
        "threeSum(nums)"
      ],
      "metadata": {
        "colab": {
          "base_uri": "https://localhost:8080/"
        },
        "id": "kNj-BG-5j4l5",
        "outputId": "35529d16-c63c-459c-df4f-438ee7f3192c"
      },
      "execution_count": null,
      "outputs": [
        {
          "output_type": "stream",
          "name": "stdout",
          "text": [
            "set()\n"
          ]
        }
      ]
    },
    {
      "cell_type": "code",
      "source": [
        "nums = [0,0,0]\n",
        "threeSum(nums)"
      ],
      "metadata": {
        "colab": {
          "base_uri": "https://localhost:8080/"
        },
        "id": "qkJTepIEj4q4",
        "outputId": "060e2f22-d845-4d08-e0ad-7d3a4081c94f"
      },
      "execution_count": null,
      "outputs": [
        {
          "output_type": "stream",
          "name": "stdout",
          "text": [
            "{(0, 0, 0)}\n"
          ]
        }
      ]
    }
  ]
}