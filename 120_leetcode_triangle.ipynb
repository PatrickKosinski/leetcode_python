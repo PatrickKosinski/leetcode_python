{
  "nbformat": 4,
  "nbformat_minor": 0,
  "metadata": {
    "colab": {
      "provenance": [],
      "authorship_tag": "ABX9TyNtVmgjYzgmtyhC3khRILAW"
    },
    "kernelspec": {
      "name": "python3",
      "display_name": "Python 3"
    },
    "language_info": {
      "name": "python"
    }
  },
  "cells": [
    {
      "cell_type": "markdown",
      "source": [
        "# **Solution to Leetcode Problem No 120 triangle (as of 27.07.2024)**"
      ],
      "metadata": {
        "id": "VOQsG1M2UKT-"
      }
    },
    {
      "cell_type": "markdown",
      "source": [
        "\n",
        "# Difficulty: medium"
      ],
      "metadata": {
        "id": "qTg98SqQUOE1"
      }
    },
    {
      "cell_type": "markdown",
      "source": [
        "The aim of this challenge is to find the minimum path sum of a given triangle of numbers. This triangle is represented by a list of numbers. For example, triangle = [[2],[3,4],[6,5,7],[4,1,8,3]] represents the triangle:\n",
        "\n",
        "![Screenshot 2024-07-27 152257.png](data:image/png;base64,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)\n",
        "\n",
        "Screenshot has been taken from the original leetcode task. [Click here for the screenshot and for additional information on the challenge.](https://leetcode.com/problems/triangle/description/)\n",
        "From triangle[i][j] one, one can move only to triangle[i+1][j] or triangle[i+1][j+1].\n",
        "\n",
        "The idea of the solution is to move from the bottom to the top and calculate for each element in a chosen path its previous element. I.e. if you are in element triangle[i][j] you can choose only between triangle[i+1][j] and triangle[i+1][j+1]. When calculating the path sum, the sum will consist of chains in the form of ...+ triangle[i][j]+triangle[i+1][j] + ... or ...+ triangle[i][j]+triangle[i+1][j+1] + ... . When calculating the minimum path sum, you want to pick the minimum of the two numbers triangle[i+1][j]  and triangle[i+1][j+1]. This is reflected by Python's min function in the code below.\n",
        "\n",
        "Remember that we are moving from the bottom to the top; this way we have to iterate in reverse order by using range(len(triangle) - 2, -1, -1).\n",
        "\n",
        "The second iteration has been figured out by calculating the triangle path sum manually using the list triangle from above."
      ],
      "metadata": {
        "id": "RS5UDMlxUjH3"
      }
    },
    {
      "cell_type": "code",
      "source": [
        "def minimum_pathsum_of_triangle(triangle):\n",
        "  for i in range(len(triangle) - 2, -1, -1):\n",
        "    for j in range(i+1):\n",
        "      triangle[i][j] = triangle[i][j] + min(triangle[i+1][j], triangle[i+1][j+1])\n",
        "  print(triangle[0][0])"
      ],
      "metadata": {
        "id": "Qh2RkbaJCIIK"
      },
      "execution_count": 34,
      "outputs": []
    },
    {
      "cell_type": "code",
      "source": [
        "triangle = [[2],[3,4],[6,5,7],[4,1,8,3]]\n",
        "minimum_pathsum_of_triangle(triangle)"
      ],
      "metadata": {
        "colab": {
          "base_uri": "https://localhost:8080/"
        },
        "id": "E7X5Wr4DDxgw",
        "outputId": "c9e58270-b476-4396-f768-eff321b9e6a6"
      },
      "execution_count": 35,
      "outputs": [
        {
          "output_type": "stream",
          "name": "stdout",
          "text": [
            "11\n"
          ]
        }
      ]
    },
    {
      "cell_type": "code",
      "source": [
        "triangle = [[-10]]\n",
        "minimum_pathsum_of_triangle(triangle)"
      ],
      "metadata": {
        "colab": {
          "base_uri": "https://localhost:8080/"
        },
        "id": "SeVO7WpkDxjS",
        "outputId": "38b5aaa9-62db-49af-8bf2-e743ce62bd9b"
      },
      "execution_count": 36,
      "outputs": [
        {
          "output_type": "stream",
          "name": "stdout",
          "text": [
            "-10\n"
          ]
        }
      ]
    }
  ]
}