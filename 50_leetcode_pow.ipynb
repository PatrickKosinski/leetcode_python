{
  "nbformat": 4,
  "nbformat_minor": 0,
  "metadata": {
    "colab": {
      "provenance": [],
      "toc_visible": true,
      "authorship_tag": "ABX9TyNaCp/PICBSp/UHrO4X2aHe"
    },
    "kernelspec": {
      "name": "python3",
      "display_name": "Python 3"
    },
    "language_info": {
      "name": "python"
    }
  },
  "cells": [
    {
      "cell_type": "markdown",
      "source": [
        "# **Solution to Leetcode Problem No. 50 Pow(x,n) (as of 05.07.2024)**\n",
        "\n",
        "## Difficulty: medium\n"
      ],
      "metadata": {
        "id": "zlT0gx7zRBos"
      }
    },
    {
      "cell_type": "markdown",
      "source": [
        "The aim is to implement Python's pow(x,n), where $x \\in R$ and n is an integer. Please find the full description in here: [Link to full description](https://leetcode.com/problems/powx-n/)."
      ],
      "metadata": {
        "id": "xpTFNl4JRJX2"
      }
    },
    {
      "cell_type": "markdown",
      "source": [
        "For a full explanation on the intuition and the approach, please follow the following link: [link to my explanation](https://leetcode.com/problems/powx-n/solutions/5409266/beginner-friendly-straightforward-solution-using-recursion/)"
      ],
      "metadata": {
        "id": "6CriFLXDUk3H"
      }
    },
    {
      "cell_type": "code",
      "source": [
        "def myPow(x: float, n: int) -> float:\n",
        "  if n >= 0:\n",
        "    if n == 1:\n",
        "      return x\n",
        "  if n == 0:\n",
        "      return 1\n",
        "  if n % 2 == 0:\n",
        "      return myPow(x * x, n//2)\n",
        "  if n % 2 == 1:\n",
        "      return myPow(x * x, n//2) * myPow(x, 1)\n",
        "  if n < 0:\n",
        "      return 1/myPow(x, - 1 * n)"
      ],
      "metadata": {
        "id": "ZgqlYH7UQcwm"
      },
      "execution_count": null,
      "outputs": []
    },
    {
      "cell_type": "markdown",
      "source": [
        "## Some test cases"
      ],
      "metadata": {
        "id": "XahVPEo6Rv37"
      }
    },
    {
      "cell_type": "code",
      "source": [
        "print(myPow(2,2))\n",
        "# 2^2 = 4"
      ],
      "metadata": {
        "colab": {
          "base_uri": "https://localhost:8080/"
        },
        "id": "MzJ7t3SpQczO",
        "outputId": "f6b26e07-aca3-41bd-a0a5-602007f7d5c6"
      },
      "execution_count": null,
      "outputs": [
        {
          "output_type": "stream",
          "name": "stdout",
          "text": [
            "4\n"
          ]
        }
      ]
    },
    {
      "cell_type": "code",
      "source": [
        "print(myPow(2,3))\n",
        "# 2^3 = 8"
      ],
      "metadata": {
        "colab": {
          "base_uri": "https://localhost:8080/"
        },
        "id": "1-4BUuvPQc1k",
        "outputId": "bb914e21-f157-4fca-b27c-c58b4dfab7c1"
      },
      "execution_count": null,
      "outputs": [
        {
          "output_type": "stream",
          "name": "stdout",
          "text": [
            "8\n"
          ]
        }
      ]
    },
    {
      "cell_type": "code",
      "source": [
        "print(myPow(5,2))\n",
        "# 5^2 = 25"
      ],
      "metadata": {
        "colab": {
          "base_uri": "https://localhost:8080/"
        },
        "id": "-xMu3P2ZQ88j",
        "outputId": "731bb693-d9fd-4f1c-ac1b-44b75f6f9478"
      },
      "execution_count": null,
      "outputs": [
        {
          "output_type": "stream",
          "name": "stdout",
          "text": [
            "25\n"
          ]
        }
      ]
    }
  ]
}