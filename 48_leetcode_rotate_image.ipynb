{
  "cells": [
    {
      "cell_type": "markdown",
      "source": [
        "# **Solution to Leetcode Problem No 48 Rotate Image (as of 13.08.2024)**"
      ],
      "metadata": {
        "id": "HnIQlYy0t-RR"
      }
    },
    {
      "cell_type": "markdown",
      "source": [
        "# **Difficulty: medium**"
      ],
      "metadata": {
        "id": "_ihpWUiht-Za"
      }
    },
    {
      "cell_type": "markdown",
      "source": [
        "The aim of this challenge is to rotate a given matrix by 90 degrees. E.g. for a given matrix \\\\begin{pmatrix}\n",
        "1 & 2 & 3\\\\\n",
        "4 & 5 & 6 \\\\\n",
        "7 & 8 & 9\n",
        "\\end{pmatrix}\n",
        "we calculate\n",
        "\\\\begin{pmatrix}\n",
        "7 & 4 & 1\\\\\n",
        "8 & 5 & 2 \\\\\n",
        "9 & 6 & 3\n",
        "\\end{pmatrix}\n",
        ". For more details please visit the [leetcode](https://leetcode.com/problems/rotate-image/description/)."
      ],
      "metadata": {
        "id": "njcZE_v0t-cH"
      }
    },
    {
      "cell_type": "markdown",
      "source": [
        "The idea of my solution is twofold:\n",
        "\n",
        "1) In a first step, I calculate the transpose of the matrix. This is done by the first for loop. It is important to note that in order to calculate the transpose of the matrix, one has to set a_{ij} = a_{ji}. One need to pay attention that in order to do so, you only need to loop through the upper triangle of the matrix or the lower triangle part of the matrix. Otherwise, one will end up with the original matrix. Here, I chose the lower triangle part.\n",
        "\n",
        "2) Each column needs to be reversed. This is done by the second for-loop. I found this approach by trial end error. After transposing a matrix, I figured that reversing the order of each row will lead to the desired outcome."
      ],
      "metadata": {
        "id": "ZMmlGfKyt-fV"
      }
    },
    {
      "cell_type": "code",
      "source": [
        "class Solution:\n",
        "    def rotate(self, matrix):\n",
        "        \"\"\"\n",
        "        Do not return anything, modify matrix in-place instead.\n",
        "        \"\"\"\n",
        "        count_rows = len(matrix)\n",
        "        count_columns = len(matrix[0])\n",
        "\n",
        "        for i in range(count_rows):\n",
        "            for j in range(i):\n",
        "                helper = matrix[i][j]\n",
        "                matrix[i][j] = matrix[j][i]\n",
        "                matrix[j][i] = helper\n",
        "\n",
        "        for i in range(count_columns):\n",
        "            matrix[i] = matrix[i][::-1]\n",
        "\n",
        "        return matrix"
      ],
      "metadata": {
        "id": "zS956yfYxTw5"
      },
      "execution_count": 32,
      "outputs": []
    },
    {
      "cell_type": "code",
      "source": [
        "matrix = [[1,2,3],[4,5,6],[7,8,9]]\n",
        "solution_nums = Solution()\n",
        "print(solution_nums.rotate(matrix))"
      ],
      "metadata": {
        "colab": {
          "base_uri": "https://localhost:8080/"
        },
        "id": "LIt0UgfLxW-a",
        "outputId": "6b7e0782-0d34-4c58-832d-6bbaceaf1181"
      },
      "execution_count": 33,
      "outputs": [
        {
          "output_type": "stream",
          "name": "stdout",
          "text": [
            "[[7, 4, 1], [8, 5, 2], [9, 6, 3]]\n"
          ]
        }
      ]
    },
    {
      "cell_type": "code",
      "source": [
        "matrix = [[5,1,9,11],[2,4,8,10],[13,3,6,7],[15,14,12,16]]\n",
        "solution_nums = Solution()\n",
        "print(solution_nums.rotate(matrix))"
      ],
      "metadata": {
        "colab": {
          "base_uri": "https://localhost:8080/"
        },
        "id": "jDZYs0kwxTzH",
        "outputId": "c4e4b569-3a35-4ebb-f04f-36567140d607"
      },
      "execution_count": 34,
      "outputs": [
        {
          "output_type": "stream",
          "name": "stdout",
          "text": [
            "[[15, 13, 2, 5], [14, 3, 4, 1], [12, 6, 8, 9], [16, 7, 10, 11]]\n"
          ]
        }
      ]
    }
  ],
  "metadata": {
    "colab": {
      "provenance": [],
      "authorship_tag": "ABX9TyPtHvvSbYU6iuK/4nphUq1R"
    },
    "kernelspec": {
      "display_name": "Python 3",
      "name": "python3"
    },
    "language_info": {
      "name": "python"
    }
  },
  "nbformat": 4,
  "nbformat_minor": 0
}