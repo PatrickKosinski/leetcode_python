{
  "nbformat": 4,
  "nbformat_minor": 0,
  "metadata": {
    "colab": {
      "provenance": [],
      "authorship_tag": "ABX9TyOJb6jbd8VWXPfq/te4ktVV"
    },
    "kernelspec": {
      "name": "python3",
      "display_name": "Python 3"
    },
    "language_info": {
      "name": "python"
    }
  },
  "cells": [
    {
      "cell_type": "markdown",
      "source": [
        "# **Solution to Leetcode Problem No 137 Single Number II (as of 27.07.2024)**"
      ],
      "metadata": {
        "id": "v0pINt-vkfSz"
      }
    },
    {
      "cell_type": "markdown",
      "source": [
        "# Difficulty: medium"
      ],
      "metadata": {
        "id": "nUnD9jLakfeb"
      }
    },
    {
      "cell_type": "markdown",
      "source": [
        "The aim of this challenge is to identify the unique value of a list of numbers where all numbers appear three times except the one that we are looking for. E.g., if we face the list nums = [2,2,3,2], then we want to return 3.\n",
        "\n",
        "The idea of my approach is to iterate through every element of the list and check whether the element did already appear. If it did, remove it from the result list - if it did not, append it to result. However, we know that each element (except for one) will appear three times. Applying this approach would mean that we would end up with a list of unique values. Therefore, we simultaneously append an element to the helper list, if it already appeared in result. That way, we get a list of unique values (result) and a list containing only the duplicates (helper).\n",
        "\n",
        "The only thing that we have to do in the end is to pick the element that is contained in result but not in helper."
      ],
      "metadata": {
        "id": "cc3-RVtjkfgq"
      }
    },
    {
      "cell_type": "code",
      "source": [
        "def singleNumber(nums):\n",
        "  result = []\n",
        "  helper = []\n",
        "  for i in nums:\n",
        "    if i in result:\n",
        "      result.remove(i)\n",
        "      helper.append(i)\n",
        "    else:\n",
        "      result.append(i)\n",
        "  final_result = [item for item in result if item not in helper]\n",
        "  print(final_result[0])"
      ],
      "metadata": {
        "id": "CeyQVRbskfzC"
      },
      "execution_count": 6,
      "outputs": []
    },
    {
      "cell_type": "code",
      "source": [
        "nums = [2,2,3,2]\n",
        "singleNumber(nums)"
      ],
      "metadata": {
        "colab": {
          "base_uri": "https://localhost:8080/"
        },
        "id": "oOI-qZvlkf1b",
        "outputId": "c10211de-d6bb-472f-be44-b3d543afba68"
      },
      "execution_count": 7,
      "outputs": [
        {
          "output_type": "stream",
          "name": "stdout",
          "text": [
            "3\n"
          ]
        }
      ]
    },
    {
      "cell_type": "code",
      "source": [
        "nums = [0,1,0,1,0,1,99]\n",
        "singleNumber(nums)"
      ],
      "metadata": {
        "colab": {
          "base_uri": "https://localhost:8080/"
        },
        "id": "I3SL6HH8kf3z",
        "outputId": "2b544b20-65f8-4c71-8389-979b110eb779"
      },
      "execution_count": 8,
      "outputs": [
        {
          "output_type": "stream",
          "name": "stdout",
          "text": [
            "99\n"
          ]
        }
      ]
    }
  ]
}